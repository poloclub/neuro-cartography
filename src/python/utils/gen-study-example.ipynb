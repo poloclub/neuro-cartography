{
 "cells": [
  {
   "cell_type": "markdown",
   "metadata": {},
   "source": [
    "## Import packages"
   ]
  },
  {
   "cell_type": "code",
   "execution_count": 1,
   "metadata": {},
   "outputs": [],
   "source": [
    "import os\n",
    "import json\n",
    "import random\n",
    "import numpy as np\n",
    "from datetime import date\n",
    "import matplotlib.pyplot as plt\n",
    "import shutil"
   ]
  },
  {
   "cell_type": "markdown",
   "metadata": {},
   "source": [
    "## Load buckets"
   ]
  },
  {
   "cell_type": "code",
   "execution_count": 40,
   "metadata": {},
   "outputs": [],
   "source": [
    "blks = [\n",
    "    'mixed3a', \n",
    "    'mixed3b_3x3', \n",
    "    'mixed3b_5x5', \n",
    "    'mixed3b', \n",
    "    'mixed4a_3x3', \n",
    "    'mixed4a_5x5', \n",
    "    'mixed4a', \n",
    "    'mixed4b_3x3', \n",
    "    'mixed4b_5x5', \n",
    "    'mixed4b', \n",
    "    'mixed4c_3x3', \n",
    "    'mixed4c_5x5', \n",
    "    'mixed4c', \n",
    "    'mixed4d_3x3', \n",
    "    'mixed4d_5x5', \n",
    "    'mixed4d', \n",
    "    'mixed4e_3x3', \n",
    "    'mixed4e_5x5', \n",
    "    'mixed4e', \n",
    "    'mixed5a_3x3', \n",
    "    'mixed5a_5x5', \n",
    "    'mixed5a', \n",
    "    'mixed5b_3x3', \n",
    "    'mixed5b_5x5', \n",
    "    'mixed5b'\n",
    "]"
   ]
  },
  {
   "cell_type": "code",
   "execution_count": 41,
   "metadata": {},
   "outputs": [],
   "source": [
    "# input_dir_path = '../../../data/InceptionV1/bucket/bucket-all-5-30-0.03'\n",
    "input_dir_path = '../../../data/InceptionV1/bucket/bucket-all-5-30-0.0'\n",
    "\n",
    "def load_data(dir_path):\n",
    "    data = {}\n",
    "    for blk in blks:\n",
    "        file_path = '{}/buckets-{}.json'.format(dir_path, blk)\n",
    "        with open(file_path, 'r') as f:\n",
    "            d = json.load(f)\n",
    "        data[blk] = d\n",
    "    return data"
   ]
  },
  {
   "cell_type": "markdown",
   "metadata": {},
   "source": [
    "## Histogram of group size"
   ]
  },
  {
   "cell_type": "code",
   "execution_count": 42,
   "metadata": {},
   "outputs": [],
   "source": [
    "data = load_data(input_dir_path)\n",
    "group_size_d = {}\n",
    "for blk in data:\n",
    "    for group in data[blk]:\n",
    "        size = len(data[blk][group])\n",
    "        if size not in group_size_d:\n",
    "            group_size_d[size] = 0\n",
    "        group_size_d[size] += 1"
   ]
  },
  {
   "cell_type": "code",
   "execution_count": 43,
   "metadata": {},
   "outputs": [],
   "source": [
    "def save_hist(input_dir_path, file_path):\n",
    "    \n",
    "    # Load buckets\n",
    "    data = load_data(input_dir_path)\n",
    "        \n",
    "    # Group size\n",
    "    group_size_d = {}\n",
    "    for blk in data:\n",
    "        for group in data[blk]:\n",
    "            size = len(data[blk][group])\n",
    "            if size not in group_size_d:\n",
    "                group_size_d[size] = 0\n",
    "            group_size_d[size] += 1\n",
    "            \n",
    "    sorted_group_sizes = sorted(group_size_d.items(), key=lambda x: x[1])\n",
    "    X = [x[0] for x in sorted_group_sizes]\n",
    "    Y = [x[1] for x in sorted_group_sizes]\n",
    "    plt.bar(X, Y, width=3)\n",
    "    plt.title('group size histogram')\n",
    "    plt.xlabel('size of group')\n",
    "    plt.ylabel('number of groups')\n",
    "    plt.savefig(file_path)\n",
    "    plt.show()"
   ]
  },
  {
   "cell_type": "markdown",
   "metadata": {},
   "source": [
    "## Set 1 - Manually picked sets"
   ]
  },
  {
   "cell_type": "code",
   "execution_count": 48,
   "metadata": {},
   "outputs": [],
   "source": [
    "def make_hand_sets(set_size):\n",
    "\n",
    "    hand_sets = [\n",
    "        ['mixed3a-55', 'mixed3a-62', 'mixed3a-64', 'mixed3-66', 'mixed3a-129'][:set_size], # mesh\n",
    "        ['mixed3a-207', 'mixed3a-210', 'mixed3a-214', 'mixed3a-223', 'mixed3a-226'][:set_size], # red\n",
    "        ['mixed3b-1', 'mixed3b-123', 'mixed3b-130', 'mixed3b-258', 'mixed3b-332'][:set_size], # |\n",
    "        ['mixed3b-6', 'mixed3b-22', 'mixed3b-66', 'mixed3b-60', 'mixed3b-105'][:set_size], # center circle\n",
    "        ['mixed4a-50', 'mixed4a-96', 'mixed4a-98', 'mixed4a-267', 'mixed4a-273'][:set_size], # circle top\n",
    "        ['mixed4a-92', 'mixed4a-136', 'mixed4a-161', 'mixed4a-300', 'mixed4a-446'][:set_size], # eye\n",
    "        ['mixed4b-108', 'mixed4b-191', 'mixed4b-214', 'mixed4b-218', 'mixed4b-278'][:set_size], # human face\n",
    "        ['mixed4b-14', 'mixed4b-24', 'mixed4b-35', 'mixed4b-60', 'mixed4b-61'][:set_size], # dog face\n",
    "        ['mixed4c-35', 'mixed4c-47', 'mixed4c-86', 'mixed4c-144', 'mixed4c-200'][:set_size], # dog face black white,\n",
    "        ['mixed4c-38', 'mixed4c-91', 'mixed4c-114', 'mixed4c-159', 'mixed4c-344'][:set_size], # brown animal face\n",
    "        ['mixed4d-74', 'mixed4d-84', 'mixed4d-141', 'mixed4d-169', 'mixed4d-173'][:set_size], # car wheel\n",
    "        ['mixed4d-81', 'mixed4d-113', 'mixed4d-177', 'mixed4d-196', 'mixed4d-246'][:set_size], # fish\n",
    "        ['mixed4d-46', 'mixed4d-251', 'mixed4d-466', 'mixed4d-475', 'mixed4d-504'][:set_size], # bird\n",
    "        ['mixed4e-16', 'mixed4e-580', 'mixed4e-610', 'mixed4e-651', 'mixed4e-710'][:set_size], # bottleneck\n",
    "        ['mixed4e-460', 'mixed4e-523', 'mixed4e-673', 'mixed4e-674', 'mixed4e-756'][:set_size], # car window\n",
    "    ]\n",
    "    \n",
    "    random.shuffle(hand_sets)\n",
    "    \n",
    "    return hand_sets\n"
   ]
  },
  {
   "cell_type": "markdown",
   "metadata": {},
   "source": [
    "## Set 2 - Our sets"
   ]
  },
  {
   "cell_type": "code",
   "execution_count": 77,
   "metadata": {},
   "outputs": [],
   "source": [
    "def make_our_sets(input_dir_path, num_sets, set_size):\n",
    "    \n",
    "    data = load_data(input_dir_path)\n",
    "        \n",
    "    # Group size\n",
    "    group_size_d = {}\n",
    "    for blk in data:\n",
    "        for group in data[blk]:\n",
    "            size = len(data[blk][group])\n",
    "            if size not in group_size_d:\n",
    "                group_size_d[size] = 0\n",
    "            group_size_d[size] += 1\n",
    "    \n",
    "\n",
    "    # Find candidates\n",
    "    candidates = {}\n",
    "    for blk in data:\n",
    "        candidates[blk] = []\n",
    "        for group in data[blk]:\n",
    "            size = len(data[blk][group])\n",
    "            if (size >= set_size) and (size <= 20):\n",
    "                picked_neuons = np.random.choice(data[blk][group], set_size, replace=False)\n",
    "                candidates[blk].append(picked_neuons)\n",
    "                \n",
    "    # Pick groups\n",
    "    picked_groups = []\n",
    "    for blk in candidates:\n",
    "        if len(candidates[blk]) > 0:\n",
    "            \n",
    "            if '3a' in blk:\n",
    "                num_sample = min([4, len(candidates[blk])])\n",
    "            if ('3b' in blk) or ('4a' in blk) or ('4b' in blk) or ('4c' in blk) or ('4d' in blk):\n",
    "                num_sample = min([2, len(candidates[blk])])\n",
    "            else:\n",
    "                num_sample = min([1, len(candidates[blk])])\n",
    "            rd_idx = np.random.choice(np.arange(len(candidates[blk])), num_sample, replace=False)\n",
    "            for i in rd_idx:\n",
    "                picked_groups.append(candidates[blk][i])\n",
    "                \n",
    "    # Pick groups\n",
    "    final_picked_groups = []\n",
    "    picked_group_idx = np.random.choice(np.arange(len(picked_groups)), num_sets, replace=False)\n",
    "    for idx in picked_group_idx:\n",
    "        list_picked_groups = [nn for nn in picked_groups[idx]]\n",
    "        final_picked_groups.append(list_picked_groups)\n",
    "        \n",
    "    print(final_picked_groups)\n",
    "    \n",
    "    return final_picked_groups"
   ]
  },
  {
   "cell_type": "markdown",
   "metadata": {},
   "source": [
    "## Set 3 - Random sets"
   ]
  },
  {
   "cell_type": "code",
   "execution_count": 78,
   "metadata": {},
   "outputs": [],
   "source": [
    "def make_random_sets(num_sets, set_size):\n",
    "\n",
    "    # Constant\n",
    "    layer_size = {\n",
    "        'mixed3a': 256,\n",
    "        'mixed3b': 480,\n",
    "        'mixed4a': 508,\n",
    "        'mixed4b': 512,\n",
    "        'mixed4c': 512,\n",
    "        'mixed4d': 528,\n",
    "        'mixed4e': 832,\n",
    "        'mixed5a': 832,\n",
    "        'mixed5b': 1024\n",
    "    }\n",
    "\n",
    "    # Find random groups\n",
    "    random_groups = []\n",
    "    rng = np.random.default_rng()\n",
    "    for layer in layer_size:\n",
    "\n",
    "        idx = sorted(rng.choice(layer_size[layer], set_size, replace=False))\n",
    "        neurons = []\n",
    "        for i in idx:\n",
    "            neuron = '{}-{}'.format(layer, i)\n",
    "            neurons.append(neuron)\n",
    "        random_groups.append(neurons)\n",
    "        \n",
    "    random.shuffle(random_groups)\n",
    "    random_groups = random_groups[:num_sets]\n",
    "    \n",
    "    return random_groups"
   ]
  },
  {
   "cell_type": "markdown",
   "metadata": {},
   "source": [
    "## Save the results"
   ]
  },
  {
   "cell_type": "code",
   "execution_count": 79,
   "metadata": {},
   "outputs": [],
   "source": [
    "def pick_random_neuron(blk):\n",
    "\n",
    "    blk_size = {\n",
    "        'mixed3a': 256,\n",
    "        'mixed3b_3x3': 128,\n",
    "        'mixed3b_5x5': 32,\n",
    "        'mixed3b': 480,\n",
    "        'mixed4a_3x3': 96,\n",
    "        'mixed4a_5x5': 16,\n",
    "        'mixed4a': 508,\n",
    "        'mixed4b_3x3': 112,\n",
    "        'mixed4b_5x5': 24,\n",
    "        'mixed4b': 512,\n",
    "        'mixed4c_3x3': 128,\n",
    "        'mixed4c_5x5': 24,\n",
    "        'mixed4c': 512,\n",
    "        'mixed4d_3x3': 144,\n",
    "        'mixed4d_5x5': 32,\n",
    "        'mixed4d': 528,\n",
    "        'mixed4e_3x3': 160,\n",
    "        'mixed4e_5x5': 32,\n",
    "        'mixed4e': 832,\n",
    "        'mixed5a_3x3': 160,\n",
    "        'mixed5a_5x5': 48,\n",
    "        'mixed5a': 832,\n",
    "        'mixed5b_3x3': 192,\n",
    "        'mixed5b_5x5': 48,\n",
    "        'mixed5b': 1024\n",
    "    }\n",
    "    \n",
    "    total = blk_size[blk]\n",
    "    n = np.random.randint(0, total, size=1)[0]\n",
    "    \n",
    "    return '{}-{}'.format(blk, n)"
   ]
  },
  {
   "cell_type": "code",
   "execution_count": 87,
   "metadata": {},
   "outputs": [
    {
     "name": "stdout",
     "output_type": "stream",
     "text": [
      "[['mixed4a-263', 'mixed4a-117', 'mixed4a-287'], ['mixed4b-191', 'mixed4b-376', 'mixed4b-108'], ['mixed5a_3x3-65', 'mixed5a_3x3-134', 'mixed5a_3x3-86'], ['mixed5a-810', 'mixed5a-653', 'mixed5a-575'], ['mixed4e_3x3-140', 'mixed4e_3x3-11', 'mixed4e_3x3-52'], ['mixed4e-516', 'mixed4e-190', 'mixed4e-467'], ['mixed3a-214', 'mixed3a-197', 'mixed3a-210'], ['mixed4b_3x3-51', 'mixed4b_3x3-103', 'mixed4b_3x3-60'], ['mixed3b-115', 'mixed3b-275', 'mixed3b-157'], ['mixed4d_3x3-2', 'mixed4d_3x3-100', 'mixed4d_3x3-37'], ['mixed4d_3x3-72', 'mixed4d_3x3-83', 'mixed4d_3x3-14'], ['mixed4d-208', 'mixed4d-355', 'mixed4d-313'], ['mixed4b-361', 'mixed4b-256', 'mixed4b-307'], ['mixed5b_5x5-16', 'mixed5b_5x5-35', 'mixed5b_5x5-29'], ['mixed5b_3x3-111', 'mixed5b_3x3-148', 'mixed5b_3x3-57']]\n"
     ]
    },
    {
     "data": {
      "image/png": "[encoded data removed]",
      "text/plain": [
       "<Figure size 432x288 with 1 Axes>"
      ]
     },
     "metadata": {
      "needs_background": "light"
     },
     "output_type": "display_data"
    },
    {
     "name": "stdout",
     "output_type": "stream",
     "text": [
      "[['mixed4c-288', 'mixed4c-133', 'mixed4c-332'], ['mixed4b_5x5-8', 'mixed4b_5x5-23', 'mixed4b_5x5-16'], ['mixed5b-732', 'mixed5b-315', 'mixed5b-490'], ['mixed5b_3x3-187', 'mixed5b_3x3-179', 'mixed5b_3x3-59'], ['mixed4d_3x3-2', 'mixed4d_3x3-100', 'mixed4d_3x3-141'], ['mixed3b-230', 'mixed3b-315', 'mixed3b-270'], ['mixed4c-323', 'mixed4c-199', 'mixed4c-373'], ['mixed4b-232', 'mixed4b-329', 'mixed4b-153'], ['mixed4b_3x3-51', 'mixed4b_3x3-103', 'mixed4b_3x3-60'], ['mixed3b-438', 'mixed3b-72', 'mixed3b-309'], ['mixed4d-77', 'mixed4d-399', 'mixed4d-459'], ['mixed4a-235', 'mixed4a-287', 'mixed4a-364'], ['mixed5a-530', 'mixed5a-362', 'mixed5a-224'], ['mixed4e-482', 'mixed4e-256', 'mixed4e-380'], ['mixed4b-179', 'mixed4b-430', 'mixed4b-237']]\n"
     ]
    },
    {
     "data": {
      "image/png": "[encoded data removed]",
      "text/plain": [
       "<Figure size 432x288 with 1 Axes>"
      ]
     },
     "metadata": {
      "needs_background": "light"
     },
     "output_type": "display_data"
    },
    {
     "name": "stdout",
     "output_type": "stream",
     "text": [
      "[['mixed4c-139', 'mixed4c-164', 'mixed4c-234'], ['mixed4b_3x3-37', 'mixed4b_3x3-28', 'mixed4b_3x3-54'], ['mixed3b-309', 'mixed3b-438', 'mixed3b-72'], ['mixed4d-344', 'mixed4d-133', 'mixed4d-356'], ['mixed4e-734', 'mixed4e-82', 'mixed4e-175'], ['mixed4c-71', 'mixed4c-357', 'mixed4c-123'], ['mixed5b_5x5-29', 'mixed5b_5x5-16', 'mixed5b_5x5-35'], ['mixed5a_3x3-74', 'mixed5a_3x3-143', 'mixed5a_3x3-103'], ['mixed4b_5x5-8', 'mixed4b_5x5-23', 'mixed4b_5x5-16'], ['mixed4a-5', 'mixed4a-156', 'mixed4a-304'], ['mixed5b_3x3-148', 'mixed5b_3x3-111', 'mixed5b_3x3-57'], ['mixed4b-81', 'mixed4b-137', 'mixed4b-166'], ['mixed4d-238', 'mixed4d-221', 'mixed4d-429'], ['mixed4b_3x3-60', 'mixed4b_3x3-103', 'mixed4b_3x3-51'], ['mixed4a-253', 'mixed4a-181', 'mixed4a-267']]\n"
     ]
    },
    {
     "data": {
      "image/png": "[encoded data removed]",
      "text/plain": [
       "<Figure size 432x288 with 1 Axes>"
      ]
     },
     "metadata": {
      "needs_background": "light"
     },
     "output_type": "display_data"
    }
   ],
   "source": [
    "# img_dir = '../../../data/inceptionV1-vis/example-patch/'\n",
    "num_sets = 15\n",
    "set_size = 3\n",
    "num_exs = 3\n",
    "\n",
    "today = date.today()\n",
    "today = today.strftime('%Y-%m-%d')\n",
    "main_dir = '../../../data/InceptionV1/study_examples/sets-{}-{}'.format(set_size, today)\n",
    "try:\n",
    "    os.mkdir(main_dir)\n",
    "except FileExistsError:\n",
    "    shutil.rmtree(main_dir)\n",
    "    os.mkdir(main_dir)\n",
    "    pass\n",
    "\n",
    "set_info = {}\n",
    "\n",
    "for i in range(num_exs):\n",
    "    \n",
    "    dir_path = '{}/ex-{}'.format(main_dir, i)\n",
    "    try:\n",
    "        os.mkdir(dir_path)\n",
    "    except FileExistsError:\n",
    "        pass\n",
    "    \n",
    "    set_types = ['random'] * 5\n",
    "    set_types += ['hand'] * 15\n",
    "    set_types += ['nc'] * 15\n",
    "    random.shuffle(set_types)\n",
    "\n",
    "    idx_d = {\n",
    "        'random': 0,\n",
    "        'hand': 0,\n",
    "        'nc': 0\n",
    "    }\n",
    "    \n",
    "    hand_sets = make_hand_sets(set_size)\n",
    "    our_sets = make_our_sets(input_dir_path, num_sets, set_size)\n",
    "    random_sets = make_random_sets(5, set_size)\n",
    "    \n",
    "    for ii, set_type in enumerate(set_types):\n",
    "        \n",
    "        j = idx_d[set_type]\n",
    "        subdir_path = '{}/set-{}'.format(dir_path, ii)\n",
    "        \n",
    "        if set_type == 'random':\n",
    "            neurons = random_sets[j]\n",
    "        elif set_type == 'hand':\n",
    "            neurons = hand_sets[j]\n",
    "        elif set_type == 'nc':\n",
    "            neurons = our_sets[j]\n",
    "            \n",
    "        blk = neurons[0].split('-')[0]\n",
    "        rand_neuron = pick_random_neuron(blk)\n",
    "            \n",
    "        neurons.append(rand_neuron)\n",
    "        random.shuffle(neurons)\n",
    "        answer = neurons.index(rand_neuron)\n",
    "        \n",
    "        if set_type == 'random':\n",
    "            answer = 'any'\n",
    "            \n",
    "        set_info[ii] = {\n",
    "            'neurons': neurons,\n",
    "            'type': set_type,\n",
    "            'answer': answer\n",
    "        }\n",
    "        \n",
    "        idx_d[set_type] += 1\n",
    "        \n",
    "        # Generate subdir\n",
    "        try:\n",
    "            os.mkdir(subdir_path)\n",
    "        except FileExistsError:\n",
    "            pass\n",
    "        \n",
    "        # Copy images\n",
    "        for neuron_i, neuron in enumerate(neurons):\n",
    "            neuron_path = '{}/neuron-{}'.format(subdir_path, neuron_i)\n",
    "            try:\n",
    "                os.mkdir(neuron_path)\n",
    "            except FileExistsError:\n",
    "                pass\n",
    "                \n",
    "            for img_i in range(10):\n",
    "                img_path = '{}/{}-dataset-p-{}.jpg'.format(\n",
    "                    img_dir, neuron, img_i\n",
    "                )\n",
    "                os.system('cp {} {}'.format(img_path, neuron_path))\n",
    "    \n",
    "    # Save set info\n",
    "    with open(dir_path + '/set-info.json', 'w') as f:\n",
    "        json.dump(set_info, f)\n",
    "        \n",
    "    # Save histogram\n",
    "    save_hist(input_dir_path, dir_path + '/group-size.png')\n",
    "    "
   ]
  },
  {
   "cell_type": "code",
   "execution_count": null,
   "metadata": {},
   "outputs": [],
   "source": []
  },
  {
   "cell_type": "code",
   "execution_count": null,
   "metadata": {},
   "outputs": [],
   "source": []
  }
 ],
 "metadata": {
  "kernelspec": {
   "display_name": "Python 3",
   "language": "python",
   "name": "python3"
  },
  "language_info": {
   "codemirror_mode": {
    "name": "ipython",
    "version": 3
   },
   "file_extension": ".py",
   "mimetype": "text/x-python",
   "name": "python",
   "nbconvert_exporter": "python",
   "pygments_lexer": "ipython3",
   "version": "3.7.3"
  }
 },
 "nbformat": 4,
 "nbformat_minor": 4
}
