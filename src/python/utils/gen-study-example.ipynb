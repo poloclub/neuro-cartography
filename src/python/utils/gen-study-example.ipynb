{
 "cells": [
  {
   "cell_type": "markdown",
   "metadata": {},
   "source": [
    "## Import packages"
   ]
  },
  {
   "cell_type": "code",
   "execution_count": 106,
   "metadata": {},
   "outputs": [],
   "source": [
    "import os\n",
    "import json\n",
    "import random\n",
    "import numpy as np\n",
    "from datetime import date\n",
    "import matplotlib.pyplot as plt"
   ]
  },
  {
   "cell_type": "markdown",
   "metadata": {},
   "source": [
    "## Load buckets"
   ]
  },
  {
   "cell_type": "code",
   "execution_count": 7,
   "metadata": {},
   "outputs": [],
   "source": [
    "file_path = '../../../data/InceptionV1/aggregated_bucket/buckets.json'\n",
    "with open(file_path, 'r') as f:\n",
    "    data = json.load(f)"
   ]
  },
  {
   "cell_type": "markdown",
   "metadata": {},
   "source": [
    "## Histogram of group size"
   ]
  },
  {
   "cell_type": "code",
   "execution_count": 10,
   "metadata": {},
   "outputs": [],
   "source": [
    "group_size_d = {}\n",
    "\n",
    "for blk in data:\n",
    "    for group in data[blk]:\n",
    "        size = len(data[blk][group])\n",
    "        if size not in group_size_d:\n",
    "            group_size_d[size] = 0\n",
    "        group_size_d[size] += 1"
   ]
  },
  {
   "cell_type": "code",
   "execution_count": 149,
   "metadata": {},
   "outputs": [],
   "source": [
    "def save_hist(bucket_path, file_path):\n",
    "    \n",
    "    # Load buckets\n",
    "    with open(bucket_path, 'r') as f:\n",
    "        data = json.load(f)\n",
    "        \n",
    "    # Group size\n",
    "    group_size_d = {}\n",
    "    for blk in data:\n",
    "        for group in data[blk]:\n",
    "            size = len(data[blk][group])\n",
    "            if size not in group_size_d:\n",
    "                group_size_d[size] = 0\n",
    "            group_size_d[size] += 1\n",
    "            \n",
    "    sorted_group_sizes = sorted(group_size_d.items(), key=lambda x: x[1])\n",
    "    X = [x[0] for x in sorted_group_sizes]\n",
    "    Y = [x[1] for x in sorted_group_sizes]\n",
    "    plt.bar(X, Y, width=3)\n",
    "    plt.title('group size histogram')\n",
    "    plt.xlabel('size of group')\n",
    "    plt.ylabel('number of groups')\n",
    "    plt.savefig(file_path)\n",
    "    plt.show()"
   ]
  },
  {
   "cell_type": "markdown",
   "metadata": {},
   "source": [
    "## Set 1 - Manually picked sets"
   ]
  },
  {
   "cell_type": "code",
   "execution_count": 133,
   "metadata": {},
   "outputs": [],
   "source": [
    "num_sets = 15\n",
    "set_size = 5\n",
    "\n",
    "def make_hand_sets():\n",
    "\n",
    "    hand_sets = [\n",
    "        ['mixed3a-55', 'mixed3a-62', 'mixed3a-64', 'mixed3-66', 'mixed3a-129'], # mesh\n",
    "        ['mixed3a-207', 'mixed3a-210', 'mixed3a-214', 'mixed3a-223', 'mixed3a-226'], # red\n",
    "        ['mixed3b-1', 'mixed3b-123', 'mixed3b-130', 'mixed3b-258', 'mixed3b-332'], # |\n",
    "        ['mixed3b-6', 'mixed3b-22', 'mixed3b-66', 'mixed3b-60', 'mixed3b-105'], # center circle\n",
    "        ['mixed4a-50', 'mixed4a-96', 'mixed4a-98', 'mixed4a-267', 'mixed4a-273'], # circle top\n",
    "        ['mixed4a-92', 'mixed4a-136', 'mixed4a-161', 'mixed4a-300', 'mixed4a-446'], # eye\n",
    "        ['mixed4b-108', 'mixed4b-191', 'mixed4b-214', 'mixed4b-218', 'mixed4b-278'], # human face\n",
    "        ['mixed4b-14', 'mixed4b-24', 'mixed4b-35', 'mixed4b-60', 'mixed4b-61'], # dog face\n",
    "        ['mixed4c-35', 'mixed4c-47', 'mixed4c-86', 'mixed4c-144', 'mixed4c-200'], # dog face black white,\n",
    "        ['mixed4c-38', 'mixed4c-91', 'mixed4c-114', 'mixed4c-159', 'mixed4c-344'], # brown animal face\n",
    "        ['mixed4d-74', 'mixed4d-84', 'mixed4d-141', 'mixed4d-169', 'mixed4d-173'], # car wheel\n",
    "        ['mixed4d-81', 'mixed4d-113', 'mixed4d-177', 'mixed4d-196', 'mixed4d-246'], # fish\n",
    "        ['mixed4d-46', 'mixed4d-251', 'mixed4d-466', 'mixed4d-475', 'mixed4d-504'], # bird\n",
    "        ['mixed4e-16', 'mixed4e-580', 'mixed4e-610', 'mixed4e-651', 'mixed4e-710'], # bottleneck\n",
    "        ['mixed4e-460', 'mixed4e-523', 'mixed4e-673', 'mixed4e-674', 'mixed4e-756'], # car window\n",
    "    ]\n",
    "    \n",
    "    random.shuffle(hand_sets)\n",
    "    \n",
    "    return hand_sets\n"
   ]
  },
  {
   "cell_type": "markdown",
   "metadata": {},
   "source": [
    "## Set 2 - Our sets"
   ]
  },
  {
   "cell_type": "code",
   "execution_count": 121,
   "metadata": {},
   "outputs": [],
   "source": [
    "def make_our_sets(bucket_path, num_sets, set_size):\n",
    "    \n",
    "    # Load buckets\n",
    "    with open(file_path, 'r') as f:\n",
    "        data = json.load(f)\n",
    "        \n",
    "    # Group size\n",
    "    group_size_d = {}\n",
    "    for blk in data:\n",
    "        for group in data[blk]:\n",
    "            size = len(data[blk][group])\n",
    "            if size not in group_size_d:\n",
    "                group_size_d[size] = 0\n",
    "            group_size_d[size] += 1\n",
    "    \n",
    "\n",
    "    # Find candidates\n",
    "    candidates = []\n",
    "    for blk in data:\n",
    "        for group in data[blk]:\n",
    "            size = len(data[blk][group])\n",
    "            if size >= set_size:\n",
    "                candidates.append(data[blk][group])\n",
    "\n",
    "    # Pick groups\n",
    "    picked_group_idx = np.random.choice(np.arange(len(candidates)), num_sets)\n",
    "    picked_groups = []\n",
    "    for idx in picked_group_idx:\n",
    "        neurons = candidates[idx]\n",
    "        picked_neuons = np.random.choice(neurons, set_size)\n",
    "        picked_groups.append(list(picked_neuons))\n",
    "        \n",
    "    random.shuffle(picked_groups)\n",
    "    \n",
    "    return picked_groups"
   ]
  },
  {
   "cell_type": "markdown",
   "metadata": {},
   "source": [
    "## Set 3 - Random sets"
   ]
  },
  {
   "cell_type": "code",
   "execution_count": 122,
   "metadata": {},
   "outputs": [],
   "source": [
    "def make_random_sets(num_sets, set_size):\n",
    "\n",
    "    # Constant\n",
    "    layer_size = {\n",
    "        'mixed3a': 256,\n",
    "        'mixed3b': 480,\n",
    "        'mixed4a': 508,\n",
    "        'mixed4b': 512,\n",
    "        'mixed4c': 512,\n",
    "        'mixed4d': 528,\n",
    "        'mixed4e': 832,\n",
    "        'mixed5a': 832,\n",
    "        'mixed5b': 1024\n",
    "    }\n",
    "\n",
    "    # Find random groups\n",
    "    random_groups = []\n",
    "    rng = np.random.default_rng()\n",
    "    for layer in layer_size:\n",
    "\n",
    "        idx = sorted(rng.choice(layer_size[layer], set_size, replace=False))\n",
    "        neurons = []\n",
    "        for i in idx:\n",
    "            neuron = '{}-{}'.format(layer, i)\n",
    "            neurons.append(neuron)\n",
    "        random_groups.append(neurons)\n",
    "        \n",
    "    random.shuffle(random_groups)\n",
    "    random_groups = random_groups[:num_sets]\n",
    "    \n",
    "    return random_groups"
   ]
  },
  {
   "cell_type": "markdown",
   "metadata": {},
   "source": [
    "## Save the results"
   ]
  },
  {
   "cell_type": "code",
   "execution_count": 140,
   "metadata": {},
   "outputs": [],
   "source": [
    "def pick_random_neuron(blk):\n",
    "\n",
    "    blk_size = {\n",
    "        'mixed3a': 256,\n",
    "        'mixed3b_3x3': 128,\n",
    "        'mixed3b_5x5': 32,\n",
    "        'mixed3b': 480,\n",
    "        'mixed4a_3x3': 96,\n",
    "        'mixed4a_5x5': 16,\n",
    "        'mixed4a': 508,\n",
    "        'mixed4b_3x3': 112,\n",
    "        'mixed4b_5x5': 24,\n",
    "        'mixed4b': 512,\n",
    "        'mixed4c_3x3': 128,\n",
    "        'mixed4c_5x5': 24,\n",
    "        'mixed4c': 512,\n",
    "        'mixed4d_3x3': 144,\n",
    "        'mixed4d_5x5': 32,\n",
    "        'mixed4d': 528,\n",
    "        'mixed4e_3x3': 160,\n",
    "        'mixed4e_5x5': 32,\n",
    "        'mixed4e': 832,\n",
    "        'mixed5a_3x3': 160,\n",
    "        'mixed5a_5x5': 48,\n",
    "        'mixed5a': 832,\n",
    "        'mixed5b_3x3': 192,\n",
    "        'mixed5b_5x5': 48,\n",
    "        'mixed5b': 1024\n",
    "    }\n",
    "    \n",
    "    total = blk_size[blk]\n",
    "    n = np.random.randint(0, total, size=1)[0]\n",
    "    \n",
    "    return '{}-{}'.format(blk, n)"
   ]
  },
  {
   "cell_type": "code",
   "execution_count": 127,
   "metadata": {},
   "outputs": [],
   "source": [
    "today = date.today()\n",
    "today = today.strftime('%Y-%m-%d')\n",
    "main_dir = '../../../data/InceptionV1/study_examples/sets-' + today\n",
    "try:\n",
    "    os.mkdir(main_dir)\n",
    "except FileExistsError:\n",
    "    pass"
   ]
  },
  {
   "cell_type": "code",
   "execution_count": 151,
   "metadata": {},
   "outputs": [
    {
     "data": {
      "image/png": "[encoded data removed]",
      "text/plain": [
       "<Figure size 432x288 with 1 Axes>"
      ]
     },
     "metadata": {
      "needs_background": "light"
     },
     "output_type": "display_data"
    },
    {
     "data": {
      "image/png": "[encoded data removed]",
      "text/plain": [
       "<Figure size 432x288 with 1 Axes>"
      ]
     },
     "metadata": {
      "needs_background": "light"
     },
     "output_type": "display_data"
    },
    {
     "data": {
      "image/png": "[encoded data removed]",
      "text/plain": [
       "<Figure size 432x288 with 1 Axes>"
      ]
     },
     "metadata": {
      "needs_background": "light"
     },
     "output_type": "display_data"
    }
   ],
   "source": [
    "bucket_path = '../../../data/InceptionV1/aggregated_bucket/buckets.json'\n",
    "img_dir = '../../../data/inceptionV1-vis/example-patch/'\n",
    "\n",
    "num_sets = 15\n",
    "set_size = 5\n",
    "num_exs = 3\n",
    "\n",
    "set_info = {}\n",
    "\n",
    "for i in range(num_exs):\n",
    "    \n",
    "    dir_path = '{}/ex-{}'.format(main_dir, i)\n",
    "    try:\n",
    "        os.mkdir(dir_path)\n",
    "    except FileExistsError:\n",
    "        pass\n",
    "    \n",
    "    set_types = ['random'] * 5\n",
    "    set_types += ['hand'] * 15\n",
    "    set_types += ['nc'] * 15\n",
    "    random.shuffle(set_types)\n",
    "\n",
    "    idx_d = {\n",
    "        'random': 0,\n",
    "        'hand': 0,\n",
    "        'nc': 0\n",
    "    }\n",
    "    \n",
    "    hand_sets = make_hand_sets()\n",
    "    our_sets = make_our_sets(bucket_path, num_sets, set_size)\n",
    "    random_sets = make_random_sets(5, set_size)\n",
    "    \n",
    "    for ii, set_type in enumerate(set_types):\n",
    "        \n",
    "        j = idx_d[set_type]\n",
    "        subdir_path = '{}/set-{}'.format(dir_path, ii)\n",
    "        \n",
    "        if set_type == 'random':\n",
    "            neurons = random_sets[j]\n",
    "        elif set_type == 'hand':\n",
    "            neurons = hand_sets[j]\n",
    "        elif set_type == 'nc':\n",
    "            neurons = our_sets[j]\n",
    "            \n",
    "        blk = neurons[0].split('-')[0]\n",
    "        rand_neuron = pick_random_neuron(blk)\n",
    "            \n",
    "        neurons.append(rand_neuron)\n",
    "        random.shuffle(neurons)\n",
    "        answer = neurons.index(rand_neuron)\n",
    "        \n",
    "        if set_type == 'random':\n",
    "            answer = 'any'\n",
    "            \n",
    "        set_info[ii] = {\n",
    "            'neurons': neurons,\n",
    "            'type': set_type,\n",
    "            'answer': answer\n",
    "        }\n",
    "        \n",
    "        idx_d[set_type] += 1\n",
    "        \n",
    "        # Generate subdir\n",
    "        try:\n",
    "            os.mkdir(subdir_path)\n",
    "        except FileExistsError:\n",
    "            pass\n",
    "        \n",
    "        # Copy images\n",
    "        for neuron_i, neuron in enumerate(neurons):\n",
    "            neuron_path = '{}/neuron-{}'.format(subdir_path, neuron_i)\n",
    "            try:\n",
    "                os.mkdir(neuron_path)\n",
    "            except FileExistsError:\n",
    "                pass\n",
    "                \n",
    "            for img_i in range(10):\n",
    "                img_path = '{}/{}-dataset-p-{}.jpg'.format(\n",
    "                    img_dir, neuron, img_i\n",
    "                )\n",
    "                os.system('cp {} {}'.format(img_path, neuron_path))\n",
    "    \n",
    "    # Save set info\n",
    "    with open(dir_path + '/set-info.json', 'w') as f:\n",
    "        json.dump(set_info, f)\n",
    "        \n",
    "    # Save histogram\n",
    "    save_hist(bucket_path, dir_path + '/group-size.png')\n",
    "    "
   ]
  },
  {
   "cell_type": "code",
   "execution_count": null,
   "metadata": {},
   "outputs": [],
   "source": []
  }
 ],
 "metadata": {
  "kernelspec": {
   "display_name": "Python 3",
   "language": "python",
   "name": "python3"
  },
  "language_info": {
   "codemirror_mode": {
    "name": "ipython",
    "version": 3
   },
   "file_extension": ".py",
   "mimetype": "text/x-python",
   "name": "python",
   "nbconvert_exporter": "python",
   "pygments_lexer": "ipython3",
   "version": "3.7.3"
  }
 },
 "nbformat": 4,
 "nbformat_minor": 4
}
