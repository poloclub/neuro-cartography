{
 "cells": [
  {
   "cell_type": "markdown",
   "metadata": {},
   "source": [
    "## Import packages"
   ]
  },
  {
   "cell_type": "code",
   "execution_count": 1,
   "metadata": {},
   "outputs": [
    {
     "name": "stderr",
     "output_type": "stream",
     "text": [
      "Using TensorFlow backend.\n"
     ]
    }
   ],
   "source": [
    "import os\n",
    "import sys\n",
    "import cv2\n",
    "import json\n",
    "import tqdm\n",
    "import numpy as np\n",
    "import pandas as pd\n",
    "from time import time\n",
    "from numpy.lib.stride_tricks import as_strided\n",
    "\n",
    "import tensorflow as tf\n",
    "import lucid.optvis.render as render\n",
    "import lucid.modelzoo.vision_models as models\n",
    "from keras.applications.inception_v3 import preprocess_input\n",
    "\n",
    "sys.path.insert(0, '..')\n",
    "from InceptionV1 import InceptionV1"
   ]
  },
  {
   "cell_type": "code",
   "execution_count": 2,
   "metadata": {},
   "outputs": [],
   "source": [
    "os.environ[\"CUDA_DEVICE_ORDER\"] = \"PCI_BUS_ID\"\n",
    "os.environ[\"CUDA_VISIBLE_DEVICES\"] = \"5\""
   ]
  },
  {
   "cell_type": "markdown",
   "metadata": {},
   "source": [
    "## Load class info"
   ]
  },
  {
   "cell_type": "code",
   "execution_count": 3,
   "metadata": {},
   "outputs": [],
   "source": [
    "# Load class info\n",
    "input_path = '../../../data/imagenet-labels.txt'\n",
    "df = pd.read_csv(input_path, sep='\\t')\n",
    "\n",
    "# Parse class info\n",
    "class_info = {}\n",
    "for synset, tf_label in zip(df['synset'], df['tfrecord_label']):\n",
    "    class_info[synset] = int(tf_label) - 1"
   ]
  },
  {
   "cell_type": "markdown",
   "metadata": {},
   "source": [
    "## Load model"
   ]
  },
  {
   "cell_type": "code",
   "execution_count": 4,
   "metadata": {},
   "outputs": [],
   "source": [
    "model_wrapper = InceptionV1()\n",
    "# model_wrapper.load_model()"
   ]
  },
  {
   "cell_type": "markdown",
   "metadata": {},
   "source": [
    "## Load I-matrix"
   ]
  },
  {
   "cell_type": "code",
   "execution_count": 5,
   "metadata": {},
   "outputs": [],
   "source": [
    "dir_path = '../../../data/InceptionV1/summit/I-mat'"
   ]
  },
  {
   "cell_type": "code",
   "execution_count": 6,
   "metadata": {},
   "outputs": [
    {
     "name": "stdout",
     "output_type": "stream",
     "text": [
      "mixed3a\n",
      "mixed3b_3x3\n",
      "mixed3b_5x5\n",
      "mixed3b\n",
      "mixed4a_3x3\n",
      "mixed4a_5x5\n",
      "mixed4a\n",
      "mixed4b_3x3\n",
      "mixed4b_5x5\n",
      "mixed4b\n",
      "mixed4c_3x3\n",
      "mixed4c_5x5\n",
      "mixed4c\n",
      "mixed4d_3x3\n",
      "mixed4d_5x5\n",
      "mixed4d\n",
      "mixed4e_3x3\n",
      "mixed4e_5x5\n",
      "mixed4e\n",
      "mixed5a_3x3\n",
      "mixed5a_5x5\n",
      "mixed5a\n",
      "mixed5b_3x3\n",
      "mixed5b_5x5\n",
      "mixed5b\n"
     ]
    }
   ],
   "source": [
    "I = {}\n",
    "for blk in model_wrapper.BLKS:        \n",
    "    print(blk)\n",
    "    file_path = '{}/I_{}.json'.format(dir_path, blk)\n",
    "    with open(file_path, 'r') as f:\n",
    "        I[blk] = json.load(f)"
   ]
  },
  {
   "cell_type": "markdown",
   "metadata": {},
   "source": [
    "## Load node by class"
   ]
  },
  {
   "cell_type": "code",
   "execution_count": 7,
   "metadata": {},
   "outputs": [],
   "source": [
    "node_dir_path = '../../../data/InceptionV1/graph/node'\n",
    "\n",
    "synsets = list(class_info.keys())\n",
    "node_by_class = {}\n",
    "\n",
    "for synset in synsets:\n",
    "    file_path = '{}/node-{}.json'.format(node_dir_path, synset)\n",
    "    with open(file_path, 'r') as f:\n",
    "        node_by_class[synset] = json.load(f)"
   ]
  },
  {
   "cell_type": "markdown",
   "metadata": {},
   "source": [
    "## Find important connections per class"
   ]
  },
  {
   "cell_type": "code",
   "execution_count": 8,
   "metadata": {},
   "outputs": [
    {
     "name": "stdout",
     "output_type": "stream",
     "text": [
      "0/1000=0.00, 0.00 sec\n",
      "100/1000=0.10, 7.26 sec\n",
      "200/1000=0.20, 14.56 sec\n",
      "300/1000=0.30, 21.66 sec\n",
      "400/1000=0.40, 28.82 sec\n",
      "500/1000=0.50, 36.24 sec\n",
      "600/1000=0.60, 43.36 sec\n",
      "700/1000=0.70, 50.60 sec\n",
      "800/1000=0.80, 57.83 sec\n",
      "900/1000=0.90, 64.84 sec\n"
     ]
    }
   ],
   "source": [
    "important_connection = {}\n",
    "total = 1000\n",
    "tic = time()\n",
    "\n",
    "for synset_i, synset in enumerate(synsets):\n",
    "    if synset_i % 100 == 0:\n",
    "        toc = time()\n",
    "        print('%d/%d=%.2lf, %.2lf sec' % (synset_i, total, synset_i / total, toc - tic))\n",
    "    \n",
    "    important_connection[synset] = {}\n",
    "    c = class_info[synset]\n",
    "    \n",
    "    for blk in model_wrapper.BLKS[::-1]:\n",
    "        \n",
    "        if blk == 'mixed3a':\n",
    "            continue\n",
    "            \n",
    "        important_connection[synset][blk] = {}\n",
    "            \n",
    "        for group_id in node_by_class[synset][blk]:\n",
    "            \n",
    "            important_connection[synset][blk][group_id] = {}\n",
    "            neurons = node_by_class[synset][blk][group_id]['group']\n",
    "\n",
    "            for neuron in neurons:\n",
    "                prev_blk = model_wrapper.get_prev_blk(neuron)\n",
    "                neuron_i = int(neuron.split('-')[1])\n",
    "                conn = I[blk][c][neuron_i]\n",
    "                    \n",
    "                prev_groups = node_by_class[synset][prev_blk]\n",
    "                for prev_group_id in prev_groups:\n",
    "                    prev_neurons = prev_groups[prev_group_id]['group']\n",
    "                    for prev_neuron in prev_neurons:\n",
    "                        prev_neuron_i = prev_neuron.split('-')[1]\n",
    "                        if prev_neuron_i in conn:\n",
    "                            conn_cnt = conn[prev_neuron_i]\n",
    "                            if prev_group_id not in important_connection[synset][blk][group_id]:\n",
    "                                important_connection[synset][blk][group_id][prev_group_id] = 0\n",
    "                            important_connection[synset][blk][group_id][prev_group_id] += conn_cnt"
   ]
  },
  {
   "cell_type": "code",
   "execution_count": 9,
   "metadata": {},
   "outputs": [],
   "source": [
    "for synset in important_connection:\n",
    "    for blk in important_connection[synset]:\n",
    "        for group_id in important_connection[synset][blk]:\n",
    "            curr_group = node_by_class[synset][blk][group_id]['group']\n",
    "            for prev_group_key in important_connection[synset][blk][group_id]:\n",
    "                prev_blk = prev_group_key.split('-')[1]\n",
    "                prev_group = node_by_class[synset][prev_blk][prev_group_key]['group']\n",
    "                N = len(curr_group) * len(prev_group)\n",
    "                important_connection[synset][blk][group_id][prev_group_key] /= N"
   ]
  },
  {
   "cell_type": "code",
   "execution_count": 10,
   "metadata": {},
   "outputs": [],
   "source": [
    "# Save important connection\n",
    "output_dir_path = '../../../data/InceptionV1/graph/edge'\n",
    "\n",
    "for synset in synsets:\n",
    "    file_path = '{}/edge-{}.json'.format(output_dir_path, synset)\n",
    "    with open(file_path, 'w') as f:\n",
    "        json.dump(important_connection[synset], f)"
   ]
  },
  {
   "cell_type": "code",
   "execution_count": null,
   "metadata": {},
   "outputs": [],
   "source": []
  }
 ],
 "metadata": {
  "kernelspec": {
   "display_name": "py37",
   "language": "python",
   "name": "py37"
  },
  "language_info": {
   "codemirror_mode": {
    "name": "ipython",
    "version": 3
   },
   "file_extension": ".py",
   "mimetype": "text/x-python",
   "name": "python",
   "nbconvert_exporter": "python",
   "pygments_lexer": "ipython3",
   "version": "3.7.9"
  }
 },
 "nbformat": 4,
 "nbformat_minor": 2
}
