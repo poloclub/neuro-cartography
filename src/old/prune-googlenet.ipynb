{
 "cells": [
  {
   "cell_type": "code",
   "execution_count": 1,
   "metadata": {},
   "outputs": [],
   "source": [
    "from torchvision.models.googlenet import googlenet"
   ]
  },
  {
   "cell_type": "code",
   "execution_count": 2,
   "metadata": {},
   "outputs": [],
   "source": [
    "import torch\n",
    "import torch.nn as nn\n",
    "import torch_pruning as tp\n",
    "import random"
   ]
  },
  {
   "cell_type": "code",
   "execution_count": 3,
   "metadata": {},
   "outputs": [],
   "source": [
    "def random_prune(model, example_inputs, output_transform):\n",
    "    model.cpu().eval()\n",
    "    prunable_module_type = ( nn.Conv2d, nn.BatchNorm2d )\n",
    "    prunable_modules = [ m for m in model.modules() if isinstance(m, prunable_module_type) ]\n",
    "    ori_size = tp.utils.count_params( model )\n",
    "    DG = tp.DependencyGraph().build_dependency( model, example_inputs=example_inputs, output_transform=output_transform )\n",
    "    for layer_to_prune in prunable_modules:\n",
    "        # select a layer\n",
    "\n",
    "        if isinstance( layer_to_prune, nn.Conv2d ):\n",
    "            prune_fn = tp.prune_conv\n",
    "        elif isinstance(layer_to_prune, nn.BatchNorm2d):\n",
    "            prune_fn = tp.prune_batchnorm\n",
    "\n",
    "        ch = tp.utils.count_prunable_channels( layer_to_prune )\n",
    "        rand_idx = random.sample( list(range(ch)), min( ch//2, 10 ) )\n",
    "        plan = DG.get_pruning_plan( layer_to_prune, prune_fn, rand_idx)\n",
    "        plan.exec()\n",
    "\n",
    "    print(model)\n",
    "    with torch.no_grad():\n",
    "        out = model( example_inputs )\n",
    "        if output_transform:\n",
    "            out = output_transform(out)\n",
    "        print('googlenet')\n",
    "        print( \"  Params: %s => %s\"%( ori_size, tp.utils.count_params(model) ) )\n",
    "        print( \"  Output: \", out.shape )\n",
    "        print(\"------------------------------------------------------\\n\")\n"
   ]
  },
  {
   "cell_type": "code",
   "execution_count": 4,
   "metadata": {},
   "outputs": [],
   "source": [
    "example_inputs = torch.randn(1,3,256,256)\n",
    "output_transform = None\n",
    "\n",
    "model = googlenet(pretrained=True)"
   ]
  },
  {
   "cell_type": "code",
   "execution_count": null,
   "metadata": {},
   "outputs": [],
   "source": []
  }
 ],
 "metadata": {
  "kernelspec": {
   "display_name": "neuro-cartography",
   "language": "python",
   "name": "neuro-cartography"
  },
  "language_info": {
   "codemirror_mode": {
    "name": "ipython",
    "version": 3
   },
   "file_extension": ".py",
   "mimetype": "text/x-python",
   "name": "python",
   "nbconvert_exporter": "python",
   "pygments_lexer": "ipython3",
   "version": "3.6.8"
  }
 },
 "nbformat": 4,
 "nbformat_minor": 5
}
